{
 "cells": [
  {
   "cell_type": "code",
   "execution_count": null,
   "metadata": {},
   "outputs": [
    {
     "name": "stdout",
     "output_type": "stream",
     "text": [
      "You have 10 lives left and you have used these letters: \n",
      "Guess a letter:B\n",
      "Your letter, B is not in the word.\n",
      "You have 9 lives left and you have used these letters: B \n",
      "....\n"
     ]
    }
   ],
   "source": [
    "import random\n",
    "\n",
    "\n",
    "def decrypt(ciphertext): #defines method to decrypt input string\n",
    "    plaintext = \"\"\n",
    "    for i in range(len(ciphertext)):\n",
    "        if i % 2 == 0: #if even\n",
    "            cipher_ascii = ord(ciphertext[i]) #convert chr to ascii int\n",
    "            plain_ascii = cipher_ascii - 1 #carry out given decrypt logic\n",
    "            plaintext += chr(plain_ascii) #convert ascii int to chr and add to string plaintext\n",
    "        elif i % 2 == 1: #if odd\n",
    "            cipher_ascii = ord(ciphertext[i]) #convert chr to ascii int\n",
    "            plain_ascii = cipher_ascii + 1 #carry out given decrypt logic\n",
    "            plaintext += chr(plain_ascii) #convert ascii int to chr and add to string plaintext\n",
    "    return plaintext #return decrypted string\n",
    "\n",
    "\n",
    "words = [\"WHDSPQZ\", \"XHO\", \"TTDBFRT\", \"QQJYF\", \"ENQD\", \"DNPK\", \"CNTR\", \"EHWHOD\", \"TSVMOHOF\",\n",
    "         \"XNOCFQGTM\"]  # words to be picked from\n",
    "word = words[random.randint(0, 9)]  # select word at random\n",
    "lives = 10 #establish 10 lives\n",
    "print(\"You have 10 lives left and you have used these letters: \")\n",
    "userInput = input(\"Guess a letter:\").capitalize() #get first input from user and capitalize it to match given array format\n",
    "currentWord = \"\" #current form that user sees, blanks or correct guesses\n",
    "guessedSoFar = \"\" #letters guessed by user\n",
    "for x in range(len(word)): #set values of current word to periods as blanks\n",
    "    currentWord += \".\"\n",
    "for b in range(10): #increment for 10 lives\n",
    "    if not userInput in word: #if userinput is wrong\n",
    "        print(\"Your letter, \" + userInput + \" is not in the word.\")\n",
    "        guessedSoFar += userInput + \" \"\n",
    "        lives -= 1\n",
    "    elif userInput in word: #if userinput is right\n",
    "        for y in range(len(currentWord)): #increment through the output word state (blanks and correct values)\n",
    "            if word[y] == userInput: #if userinput exists at this index\n",
    "                currentWord = currentWord[:y] + userInput + currentWord[y + 1:] #slice currentWord and insert userInput where a blank was before at correct position\n",
    "    if currentWord == word: #if user has guessed the word entirely\n",
    "        print(\"YAY! You guessed the word \" + word + \"!!\\nThis was the encrypted message!\")\n",
    "        print(\"The decoded message says: \" + decrypt(word)) #run decrypt method to decrypt mystery word\n",
    "        break #end for loop (no need to finish lives)\n",
    "    if lives == 0: #if out of guesses\n",
    "        print(\"You died, sorry. The word was \" + word + \"\\nYou'll have to guess the word correctly to decode the message\")\n",
    "        break #end for loop (no need to finish lives)\n",
    "    print(\"You have \" + str(lives) + \" lives left and you have used these letters: \" + guessedSoFar) #print number of lives left and list of guesses\n",
    "    print(currentWord) #print current output (blanks and correct guesses)\n",
    "    userInput = input(\"Guess a letter:\").capitalize() #take next userinput and capitalize it to match given array format"
   ]
  },
  {
   "cell_type": "code",
   "execution_count": null,
   "metadata": {},
   "outputs": [],
   "source": []
  }
 ],
 "metadata": {
  "kernelspec": {
   "display_name": "Python 3",
   "language": "python",
   "name": "python3"
  },
  "language_info": {
   "codemirror_mode": {
    "name": "ipython",
    "version": 3
   },
   "file_extension": ".py",
   "mimetype": "text/x-python",
   "name": "python",
   "nbconvert_exporter": "python",
   "pygments_lexer": "ipython3",
   "version": "3.8.3"
  }
 },
 "nbformat": 4,
 "nbformat_minor": 4
}
